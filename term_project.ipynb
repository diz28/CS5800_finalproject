{
 "cells": [
  {
   "cell_type": "code",
   "execution_count": 112,
   "id": "91432523",
   "metadata": {
    "scrolled": true
   },
   "outputs": [
    {
     "name": "stderr",
     "output_type": "stream",
     "text": [
      "/Library/Frameworks/Python.framework/Versions/3.8/lib/python3.8/site-packages/IPython/core/interactiveshell.py:3194: DtypeWarning: Columns (1,2,5,8,9,12,15,16) have mixed types.Specify dtype option on import or set low_memory=False.\n",
      "  has_raised = await self.run_ast_nodes(code_ast.body, cell_name,\n"
     ]
    }
   ],
   "source": [
    "import pandas as pd\n",
    "import json\n",
    "\n",
    "df_csv = pd.read_csv('UNSPSC_English.csv')\n",
    "df_xlsx = pd.read_excel('Avalara_goods_and_services.xlsx')"
   ]
  },
  {
   "cell_type": "code",
   "execution_count": 113,
   "id": "438eb278",
   "metadata": {},
   "outputs": [
    {
     "data": {
      "text/plain": "      Segment                                      Segment Title  \\\n9    10000000  Live Plant and Animal Material and Accessories...   \n10   10000000  Live Plant and Animal Material and Accessories...   \n11   10000000  Live Plant and Animal Material and Accessories...   \n12   10000000  Live Plant and Animal Material and Accessories...   \n13   10000000  Live Plant and Animal Material and Accessories...   \n..        ...                                                ...   \n96   10000000  Live Plant and Animal Material and Accessories...   \n97   10000000  Live Plant and Animal Material and Accessories...   \n98   10000000  Live Plant and Animal Material and Accessories...   \n99   10000000  Live Plant and Animal Material and Accessories...   \n100  10000000  Live Plant and Animal Material and Accessories...   \n\n                                    Segment Definition    Family  \\\n9    This segment includes live, wild and domestica...       NaN   \n10   This segment includes live, wild and domestica...  10100000   \n11   This segment includes live, wild and domestica...  10100000   \n12   This segment includes live, wild and domestica...  10100000   \n13   This segment includes live, wild and domestica...  10100000   \n..                                                 ...       ...   \n96   This segment includes live, wild and domestica...  10100000   \n97   This segment includes live, wild and domestica...  10100000   \n98   This segment includes live, wild and domestica...  10100000   \n99   This segment includes live, wild and domestica...  10100000   \n100  This segment includes live, wild and domestica...  10100000   \n\n     Family Title Family Definition     Class   Class Title Class Definition  \\\n9             NaN               NaN       NaN           NaN              NaN   \n10   Live animals               NaN       NaN           NaN              NaN   \n11   Live animals               NaN  10101500     Livestock              NaN   \n12   Live animals               NaN  10101500     Livestock              NaN   \n13   Live animals               NaN  10101500     Livestock              NaN   \n..            ...               ...       ...           ...              ...   \n96   Live animals               NaN  10102000  Wild animals              NaN   \n97   Live animals               NaN  10102000  Wild animals              NaN   \n98   Live animals               NaN  10102000  Wild animals              NaN   \n99   Live animals               NaN  10102000  Wild animals              NaN   \n100  Live animals               NaN  10102000  Wild animals              NaN   \n\n    Commodity                  Commodity Title  \\\n9         NaN                              NaN   \n10        NaN                              NaN   \n11        NaN                              NaN   \n12   10101501                             Cats   \n13   10101502                             Dogs   \n..        ...                              ...   \n96   10102002                       Live foxes   \n97   10102003    Live bothrops pit viper snake   \n98   10102004     Live chironius or vine snake   \n99   10102005   Live clelia or mussurana snake   \n100  10102006  Live drymarchon or indigo snake   \n\n                                            Definition  \n9                                                  NaN  \n10                                                 NaN  \n11                                                 NaN  \n12                                                 NaN  \n13                                                 NaN  \n..                                                 ...  \n96                                                 NaN  \n97   A venomous pit viper snake spanning 32 species...  \n98   A type of tree-dwelling snake spanning 13 spec...  \n99   A type of snake spanning 10 species whose prey...  \n100  A type of snake spanning 4 species that immobi...  \n\n[92 rows x 12 columns]",
      "text/html": "<div>\n<style scoped>\n    .dataframe tbody tr th:only-of-type {\n        vertical-align: middle;\n    }\n\n    .dataframe tbody tr th {\n        vertical-align: top;\n    }\n\n    .dataframe thead th {\n        text-align: right;\n    }\n</style>\n<table border=\"1\" class=\"dataframe\">\n  <thead>\n    <tr style=\"text-align: right;\">\n      <th></th>\n      <th>Segment</th>\n      <th>Segment Title</th>\n      <th>Segment Definition</th>\n      <th>Family</th>\n      <th>Family Title</th>\n      <th>Family Definition</th>\n      <th>Class</th>\n      <th>Class Title</th>\n      <th>Class Definition</th>\n      <th>Commodity</th>\n      <th>Commodity Title</th>\n      <th>Definition</th>\n    </tr>\n  </thead>\n  <tbody>\n    <tr>\n      <th>9</th>\n      <td>10000000</td>\n      <td>Live Plant and Animal Material and Accessories...</td>\n      <td>This segment includes live, wild and domestica...</td>\n      <td>NaN</td>\n      <td>NaN</td>\n      <td>NaN</td>\n      <td>NaN</td>\n      <td>NaN</td>\n      <td>NaN</td>\n      <td>NaN</td>\n      <td>NaN</td>\n      <td>NaN</td>\n    </tr>\n    <tr>\n      <th>10</th>\n      <td>10000000</td>\n      <td>Live Plant and Animal Material and Accessories...</td>\n      <td>This segment includes live, wild and domestica...</td>\n      <td>10100000</td>\n      <td>Live animals</td>\n      <td>NaN</td>\n      <td>NaN</td>\n      <td>NaN</td>\n      <td>NaN</td>\n      <td>NaN</td>\n      <td>NaN</td>\n      <td>NaN</td>\n    </tr>\n    <tr>\n      <th>11</th>\n      <td>10000000</td>\n      <td>Live Plant and Animal Material and Accessories...</td>\n      <td>This segment includes live, wild and domestica...</td>\n      <td>10100000</td>\n      <td>Live animals</td>\n      <td>NaN</td>\n      <td>10101500</td>\n      <td>Livestock</td>\n      <td>NaN</td>\n      <td>NaN</td>\n      <td>NaN</td>\n      <td>NaN</td>\n    </tr>\n    <tr>\n      <th>12</th>\n      <td>10000000</td>\n      <td>Live Plant and Animal Material and Accessories...</td>\n      <td>This segment includes live, wild and domestica...</td>\n      <td>10100000</td>\n      <td>Live animals</td>\n      <td>NaN</td>\n      <td>10101500</td>\n      <td>Livestock</td>\n      <td>NaN</td>\n      <td>10101501</td>\n      <td>Cats</td>\n      <td>NaN</td>\n    </tr>\n    <tr>\n      <th>13</th>\n      <td>10000000</td>\n      <td>Live Plant and Animal Material and Accessories...</td>\n      <td>This segment includes live, wild and domestica...</td>\n      <td>10100000</td>\n      <td>Live animals</td>\n      <td>NaN</td>\n      <td>10101500</td>\n      <td>Livestock</td>\n      <td>NaN</td>\n      <td>10101502</td>\n      <td>Dogs</td>\n      <td>NaN</td>\n    </tr>\n    <tr>\n      <th>...</th>\n      <td>...</td>\n      <td>...</td>\n      <td>...</td>\n      <td>...</td>\n      <td>...</td>\n      <td>...</td>\n      <td>...</td>\n      <td>...</td>\n      <td>...</td>\n      <td>...</td>\n      <td>...</td>\n      <td>...</td>\n    </tr>\n    <tr>\n      <th>96</th>\n      <td>10000000</td>\n      <td>Live Plant and Animal Material and Accessories...</td>\n      <td>This segment includes live, wild and domestica...</td>\n      <td>10100000</td>\n      <td>Live animals</td>\n      <td>NaN</td>\n      <td>10102000</td>\n      <td>Wild animals</td>\n      <td>NaN</td>\n      <td>10102002</td>\n      <td>Live foxes</td>\n      <td>NaN</td>\n    </tr>\n    <tr>\n      <th>97</th>\n      <td>10000000</td>\n      <td>Live Plant and Animal Material and Accessories...</td>\n      <td>This segment includes live, wild and domestica...</td>\n      <td>10100000</td>\n      <td>Live animals</td>\n      <td>NaN</td>\n      <td>10102000</td>\n      <td>Wild animals</td>\n      <td>NaN</td>\n      <td>10102003</td>\n      <td>Live bothrops pit viper snake</td>\n      <td>A venomous pit viper snake spanning 32 species...</td>\n    </tr>\n    <tr>\n      <th>98</th>\n      <td>10000000</td>\n      <td>Live Plant and Animal Material and Accessories...</td>\n      <td>This segment includes live, wild and domestica...</td>\n      <td>10100000</td>\n      <td>Live animals</td>\n      <td>NaN</td>\n      <td>10102000</td>\n      <td>Wild animals</td>\n      <td>NaN</td>\n      <td>10102004</td>\n      <td>Live chironius or vine snake</td>\n      <td>A type of tree-dwelling snake spanning 13 spec...</td>\n    </tr>\n    <tr>\n      <th>99</th>\n      <td>10000000</td>\n      <td>Live Plant and Animal Material and Accessories...</td>\n      <td>This segment includes live, wild and domestica...</td>\n      <td>10100000</td>\n      <td>Live animals</td>\n      <td>NaN</td>\n      <td>10102000</td>\n      <td>Wild animals</td>\n      <td>NaN</td>\n      <td>10102005</td>\n      <td>Live clelia or mussurana snake</td>\n      <td>A type of snake spanning 10 species whose prey...</td>\n    </tr>\n    <tr>\n      <th>100</th>\n      <td>10000000</td>\n      <td>Live Plant and Animal Material and Accessories...</td>\n      <td>This segment includes live, wild and domestica...</td>\n      <td>10100000</td>\n      <td>Live animals</td>\n      <td>NaN</td>\n      <td>10102000</td>\n      <td>Wild animals</td>\n      <td>NaN</td>\n      <td>10102006</td>\n      <td>Live drymarchon or indigo snake</td>\n      <td>A type of snake spanning 4 species that immobi...</td>\n    </tr>\n  </tbody>\n</table>\n<p>92 rows × 12 columns</p>\n</div>"
     },
     "execution_count": 113,
     "metadata": {},
     "output_type": "execute_result"
    }
   ],
   "source": [
    "# Convert row to header and remove the row\n",
    "df_csv = df_csv.rename(columns=df_csv.iloc[8]).loc[9:100]\n",
    "df_csv = df_csv.drop(columns = ['Version', 'Key', 'Column1', 'Synonym', 'Acronym'])\n",
    "df_csv"
   ]
  },
  {
   "cell_type": "code",
   "execution_count": 114,
   "id": "f13a85a0",
   "metadata": {},
   "outputs": [
    {
     "data": {
      "text/plain": "   AvaTax System Tax Code                 AvaTax System Tax Code Description  \\\n2                D0000000                                      Digital goods   \n3                D9999999  Temporary unmapped digital goods sku - taxable...   \n4                DA010000  Digital goods: advertising material (digital o...   \n5                DA030000  Digital goods: art (digital only -- no physica...   \n6                DA040000  Digital goods: audio (digital only -- no physi...   \n7                DA040100                                Radio subscriptions   \n8                DA050000                                Digital audio works   \n9                DA051011  Digital audio works sold to an end user with r...   \n10               DA051012  Digital audio works (with rights conditioned o...   \n11               DA051013  Digital audio works sold to users other than t...   \n12               DA059399  Digital audio works (with rights of less than ...   \n13               DB010000  Digital goods: blueprints (digital only -- no ...   \n14               DB020000  Digital goods: books (digital only -- no physi...   \n15               DB031000                                      Digital books   \n16               DB031013  Digital books sold to an end user with rights ...   \n17               DB031014  Digital books (with rights of less than perman...   \n18               DB031015  Digital books (with rights conditioned on cont...   \n19               DB031016  Digital books sold to users other than the end...   \n20               DC010000           Computer software (business-to-business)   \n21               DC010100  Custom computer software - physical media (bus...   \n22               DC010200  Custom computer software - electronically down...   \n23               DC010300  Custom computer software - load and leave (bus...   \n24               DC010400  Computer software (prewritten/canned) physical...   \n25               DC010500  Computer software (prewritten/canned) electron...   \n26               DC010600  Computer software (prewritten/canned) delivere...   \n27               DC011000                  Computer software system software   \n28               DC020000           Computer software (business-to-customer)   \n29               DC020100  Custom computer software - physical media (bus...   \n30               DC020200  Custom computer software - electronically down...   \n31               DC020300  Custom computer software - load and leave (bus...   \n32               DC020600  Computer software - (prewritten/canned) delive...   \n33               DC020400  Computer software - (prewritten/canned) physic...   \n34               DC020402  Computer software - non-educational - prewritt...   \n35               DC020500  Computer software - (prewritten/canned) electr...   \n36               DC020501  Computer software - educational - prewritten/c...   \n37               DC020502  Computer software - non-educational - prewritt...   \n38               DC020503  Computer software - non-educational - prewritt...   \n39               DC060000  Canned software - license renewals  - periodic...   \n40               DC070000                               Cloud/remote storage   \n41               DD020000  Digital goods: designs / plans (digital only -...   \n42               DD040000  Digital goods: documentation (other; digital o...   \n43               DG010000                               Digital goods: games   \n44               DG010100                Digital goods: games-physical media   \n45               DG010200  Digital goods: games-streaming / electronic do...   \n46               DG010201  Games - streaming / electronic download *see a...   \n47               DG010300  Games - electronic download - permanent ownership   \n48               DG010301  Games - streaming / electronic download with l...   \n49               DG010302  Games - streaming / electronic download with l...   \n\n        Additional AvaTax System Tax Code Information  \n2   Digital goods are generally viewed as download...  \n3   A digital good that has not been mapped to a s...  \n4   Tangible personal property (i.e. designs, artw...  \n5   Canned artwork that is transferred to the cust...  \n6   Audio (i.e. music or spoken word) that is tran...  \n7          Subscriptions to satellite radio services.  \n8                                                 NaN  \n9                                                 NaN  \n10                                                NaN  \n11                                                NaN  \n12                                                NaN  \n13  Blueprints that are transferred to the custome...  \n14  Books transferred to the customer through elec...  \n15                                                NaN  \n16                                                NaN  \n17                                                NaN  \n18                                                NaN  \n19                                                NaN  \n20  Computer software sold its various forms that ...  \n21  Customized software that is transferred throug...  \n22  Customized software that is transferred electr...  \n23  Customized software that is loaded on a custom...  \n24  Computer software that is transferred through ...  \n25  Computer software that is transferred electron...  \n26  Computer software that is loaded on a customer...  \n27  Software that is integral to the computer's op...  \n28  Computer software sold its various forms that ...  \n29  Customized software that is transferred throug...  \n30  Customized software that is transferred electr...  \n31  Customized software that is loaded on a custom...  \n32  Computer software that is loaded on a customer...  \n33  Computer software that is transferred through ...  \n34  Computer software that is primarily designed f...  \n35  Computer software that is transferred electron...  \n36  Computer software that is primarily designed f...  \n37  Computer software that is primarily designed f...  \n38                                                NaN  \n39                                                NaN  \n40                                                NaN  \n41  Designs or plans that are transferred to the c...  \n42  Other documentation that is not identified wit...  \n43  Games that are transferred to the customer thr...  \n44  Games that are transferred to the customer thr...  \n45  Games that are transferred to the customer thr...  \n46  Games that are transferred to the customer thr...  \n47                                                NaN  \n48                                                NaN  \n49                                                NaN  ",
      "text/html": "<div>\n<style scoped>\n    .dataframe tbody tr th:only-of-type {\n        vertical-align: middle;\n    }\n\n    .dataframe tbody tr th {\n        vertical-align: top;\n    }\n\n    .dataframe thead th {\n        text-align: right;\n    }\n</style>\n<table border=\"1\" class=\"dataframe\">\n  <thead>\n    <tr style=\"text-align: right;\">\n      <th></th>\n      <th>AvaTax System Tax Code</th>\n      <th>AvaTax System Tax Code Description</th>\n      <th>Additional AvaTax System Tax Code Information</th>\n    </tr>\n  </thead>\n  <tbody>\n    <tr>\n      <th>2</th>\n      <td>D0000000</td>\n      <td>Digital goods</td>\n      <td>Digital goods are generally viewed as download...</td>\n    </tr>\n    <tr>\n      <th>3</th>\n      <td>D9999999</td>\n      <td>Temporary unmapped digital goods sku - taxable...</td>\n      <td>A digital good that has not been mapped to a s...</td>\n    </tr>\n    <tr>\n      <th>4</th>\n      <td>DA010000</td>\n      <td>Digital goods: advertising material (digital o...</td>\n      <td>Tangible personal property (i.e. designs, artw...</td>\n    </tr>\n    <tr>\n      <th>5</th>\n      <td>DA030000</td>\n      <td>Digital goods: art (digital only -- no physica...</td>\n      <td>Canned artwork that is transferred to the cust...</td>\n    </tr>\n    <tr>\n      <th>6</th>\n      <td>DA040000</td>\n      <td>Digital goods: audio (digital only -- no physi...</td>\n      <td>Audio (i.e. music or spoken word) that is tran...</td>\n    </tr>\n    <tr>\n      <th>7</th>\n      <td>DA040100</td>\n      <td>Radio subscriptions</td>\n      <td>Subscriptions to satellite radio services.</td>\n    </tr>\n    <tr>\n      <th>8</th>\n      <td>DA050000</td>\n      <td>Digital audio works</td>\n      <td>NaN</td>\n    </tr>\n    <tr>\n      <th>9</th>\n      <td>DA051011</td>\n      <td>Digital audio works sold to an end user with r...</td>\n      <td>NaN</td>\n    </tr>\n    <tr>\n      <th>10</th>\n      <td>DA051012</td>\n      <td>Digital audio works (with rights conditioned o...</td>\n      <td>NaN</td>\n    </tr>\n    <tr>\n      <th>11</th>\n      <td>DA051013</td>\n      <td>Digital audio works sold to users other than t...</td>\n      <td>NaN</td>\n    </tr>\n    <tr>\n      <th>12</th>\n      <td>DA059399</td>\n      <td>Digital audio works (with rights of less than ...</td>\n      <td>NaN</td>\n    </tr>\n    <tr>\n      <th>13</th>\n      <td>DB010000</td>\n      <td>Digital goods: blueprints (digital only -- no ...</td>\n      <td>Blueprints that are transferred to the custome...</td>\n    </tr>\n    <tr>\n      <th>14</th>\n      <td>DB020000</td>\n      <td>Digital goods: books (digital only -- no physi...</td>\n      <td>Books transferred to the customer through elec...</td>\n    </tr>\n    <tr>\n      <th>15</th>\n      <td>DB031000</td>\n      <td>Digital books</td>\n      <td>NaN</td>\n    </tr>\n    <tr>\n      <th>16</th>\n      <td>DB031013</td>\n      <td>Digital books sold to an end user with rights ...</td>\n      <td>NaN</td>\n    </tr>\n    <tr>\n      <th>17</th>\n      <td>DB031014</td>\n      <td>Digital books (with rights of less than perman...</td>\n      <td>NaN</td>\n    </tr>\n    <tr>\n      <th>18</th>\n      <td>DB031015</td>\n      <td>Digital books (with rights conditioned on cont...</td>\n      <td>NaN</td>\n    </tr>\n    <tr>\n      <th>19</th>\n      <td>DB031016</td>\n      <td>Digital books sold to users other than the end...</td>\n      <td>NaN</td>\n    </tr>\n    <tr>\n      <th>20</th>\n      <td>DC010000</td>\n      <td>Computer software (business-to-business)</td>\n      <td>Computer software sold its various forms that ...</td>\n    </tr>\n    <tr>\n      <th>21</th>\n      <td>DC010100</td>\n      <td>Custom computer software - physical media (bus...</td>\n      <td>Customized software that is transferred throug...</td>\n    </tr>\n    <tr>\n      <th>22</th>\n      <td>DC010200</td>\n      <td>Custom computer software - electronically down...</td>\n      <td>Customized software that is transferred electr...</td>\n    </tr>\n    <tr>\n      <th>23</th>\n      <td>DC010300</td>\n      <td>Custom computer software - load and leave (bus...</td>\n      <td>Customized software that is loaded on a custom...</td>\n    </tr>\n    <tr>\n      <th>24</th>\n      <td>DC010400</td>\n      <td>Computer software (prewritten/canned) physical...</td>\n      <td>Computer software that is transferred through ...</td>\n    </tr>\n    <tr>\n      <th>25</th>\n      <td>DC010500</td>\n      <td>Computer software (prewritten/canned) electron...</td>\n      <td>Computer software that is transferred electron...</td>\n    </tr>\n    <tr>\n      <th>26</th>\n      <td>DC010600</td>\n      <td>Computer software (prewritten/canned) delivere...</td>\n      <td>Computer software that is loaded on a customer...</td>\n    </tr>\n    <tr>\n      <th>27</th>\n      <td>DC011000</td>\n      <td>Computer software system software</td>\n      <td>Software that is integral to the computer's op...</td>\n    </tr>\n    <tr>\n      <th>28</th>\n      <td>DC020000</td>\n      <td>Computer software (business-to-customer)</td>\n      <td>Computer software sold its various forms that ...</td>\n    </tr>\n    <tr>\n      <th>29</th>\n      <td>DC020100</td>\n      <td>Custom computer software - physical media (bus...</td>\n      <td>Customized software that is transferred throug...</td>\n    </tr>\n    <tr>\n      <th>30</th>\n      <td>DC020200</td>\n      <td>Custom computer software - electronically down...</td>\n      <td>Customized software that is transferred electr...</td>\n    </tr>\n    <tr>\n      <th>31</th>\n      <td>DC020300</td>\n      <td>Custom computer software - load and leave (bus...</td>\n      <td>Customized software that is loaded on a custom...</td>\n    </tr>\n    <tr>\n      <th>32</th>\n      <td>DC020600</td>\n      <td>Computer software - (prewritten/canned) delive...</td>\n      <td>Computer software that is loaded on a customer...</td>\n    </tr>\n    <tr>\n      <th>33</th>\n      <td>DC020400</td>\n      <td>Computer software - (prewritten/canned) physic...</td>\n      <td>Computer software that is transferred through ...</td>\n    </tr>\n    <tr>\n      <th>34</th>\n      <td>DC020402</td>\n      <td>Computer software - non-educational - prewritt...</td>\n      <td>Computer software that is primarily designed f...</td>\n    </tr>\n    <tr>\n      <th>35</th>\n      <td>DC020500</td>\n      <td>Computer software - (prewritten/canned) electr...</td>\n      <td>Computer software that is transferred electron...</td>\n    </tr>\n    <tr>\n      <th>36</th>\n      <td>DC020501</td>\n      <td>Computer software - educational - prewritten/c...</td>\n      <td>Computer software that is primarily designed f...</td>\n    </tr>\n    <tr>\n      <th>37</th>\n      <td>DC020502</td>\n      <td>Computer software - non-educational - prewritt...</td>\n      <td>Computer software that is primarily designed f...</td>\n    </tr>\n    <tr>\n      <th>38</th>\n      <td>DC020503</td>\n      <td>Computer software - non-educational - prewritt...</td>\n      <td>NaN</td>\n    </tr>\n    <tr>\n      <th>39</th>\n      <td>DC060000</td>\n      <td>Canned software - license renewals  - periodic...</td>\n      <td>NaN</td>\n    </tr>\n    <tr>\n      <th>40</th>\n      <td>DC070000</td>\n      <td>Cloud/remote storage</td>\n      <td>NaN</td>\n    </tr>\n    <tr>\n      <th>41</th>\n      <td>DD020000</td>\n      <td>Digital goods: designs / plans (digital only -...</td>\n      <td>Designs or plans that are transferred to the c...</td>\n    </tr>\n    <tr>\n      <th>42</th>\n      <td>DD040000</td>\n      <td>Digital goods: documentation (other; digital o...</td>\n      <td>Other documentation that is not identified wit...</td>\n    </tr>\n    <tr>\n      <th>43</th>\n      <td>DG010000</td>\n      <td>Digital goods: games</td>\n      <td>Games that are transferred to the customer thr...</td>\n    </tr>\n    <tr>\n      <th>44</th>\n      <td>DG010100</td>\n      <td>Digital goods: games-physical media</td>\n      <td>Games that are transferred to the customer thr...</td>\n    </tr>\n    <tr>\n      <th>45</th>\n      <td>DG010200</td>\n      <td>Digital goods: games-streaming / electronic do...</td>\n      <td>Games that are transferred to the customer thr...</td>\n    </tr>\n    <tr>\n      <th>46</th>\n      <td>DG010201</td>\n      <td>Games - streaming / electronic download *see a...</td>\n      <td>Games that are transferred to the customer thr...</td>\n    </tr>\n    <tr>\n      <th>47</th>\n      <td>DG010300</td>\n      <td>Games - electronic download - permanent ownership</td>\n      <td>NaN</td>\n    </tr>\n    <tr>\n      <th>48</th>\n      <td>DG010301</td>\n      <td>Games - streaming / electronic download with l...</td>\n      <td>NaN</td>\n    </tr>\n    <tr>\n      <th>49</th>\n      <td>DG010302</td>\n      <td>Games - streaming / electronic download with l...</td>\n      <td>NaN</td>\n    </tr>\n  </tbody>\n</table>\n</div>"
     },
     "execution_count": 114,
     "metadata": {},
     "output_type": "execute_result"
    }
   ],
   "source": [
    "df_xlsx = df_xlsx.rename(columns={'Unnamed: 0':'AvaTax System Tax Code', 'AvaTax System Tax Codes':'AvaTax System Tax Code Description',\n",
    "                                 'Unnamed: 2':'Additional AvaTax System Tax Code Information'})\n",
    "df_xlsx = df_xlsx[2:50]\n",
    "df_xlsx"
   ]
  },
  {
   "cell_type": "code",
   "execution_count": 115,
   "outputs": [
    {
     "name": "stderr",
     "output_type": "stream",
     "text": [
      "[nltk_data] Downloading package stopwords to /Users/mikec/nltk_data...\n",
      "[nltk_data]   Package stopwords is already up-to-date!\n",
      "[nltk_data] Downloading package punkt to /Users/mikec/nltk_data...\n",
      "[nltk_data]   Package punkt is already up-to-date!\n"
     ]
    },
    {
     "data": {
      "text/plain": "True"
     },
     "execution_count": 115,
     "metadata": {},
     "output_type": "execute_result"
    }
   ],
   "source": [
    "# import nltk and download resources\n",
    "import nltk\n",
    "import ssl\n",
    "try:\n",
    "    _create_unverified_https_context = ssl._create_unverified_context\n",
    "except AttributeError:\n",
    "    pass\n",
    "else:\n",
    "    ssl._create_default_https_context = _create_unverified_https_context\n",
    "nltk.download('stopwords')\n",
    "nltk.download('punkt')"
   ],
   "metadata": {
    "collapsed": false,
    "pycharm": {
     "name": "#%%\n"
    }
   }
  },
  {
   "cell_type": "code",
   "execution_count": 116,
   "outputs": [
    {
     "data": {
      "text/plain": "   AvaTax System Tax Code                 AvaTax System Tax Code Description  \\\n2                D0000000                                      Digital,goods   \n3                D9999999  Temporary,unmapped,digital,goods,sku,taxable,d...   \n4                DA010000  Digital,goods,advertising,material,digital,phy...   \n5                DA030000           Digital,goods,art,digital,physical,media   \n6                DA040000         Digital,goods,audio,digital,physical,media   \n7                DA040100                                Radio,subscriptions   \n8                DA050000                                Digital,audio,works   \n9                DA051011  Digital,audio,works,sold,end,user,rights,perma...   \n10               DA051012  Digital,audio,works,rights,conditioned,continu...   \n11               DA051013            Digital,audio,works,sold,users,end,user   \n12               DA059399      Digital,audio,works,rights,less,permanent,use   \n13               DB010000    Digital,goods,blueprints,digital,physical,media   \n14               DB020000         Digital,goods,books,digital,physical,media   \n15               DB031000                                      Digital,books   \n16               DB031013   Digital,books,sold,end,user,rights,permanent,use   \n17               DB031014            Digital,books,rights,less,permanent,use   \n18               DB031015  Digital,books,rights,conditioned,continued,pay...   \n19               DB031016                  Digital,books,sold,users,end,user   \n20               DC010000             Computer,software,business-to-business   \n21               DC010100  Custom,computer,software,physical,media,busine...   \n22               DC010200  Custom,computer,software,electronically,downlo...   \n23               DC010300  Custom,computer,software,load,leave,business-t...   \n24               DC010400  Computer,software,prewritten/canned,physical,m...   \n25               DC010500  Computer,software,prewritten/canned,electronic...   \n26               DC010600  Computer,software,prewritten/canned,delivered,...   \n27               DC011000                  Computer,software,system,software   \n28               DC020000             Computer,software,business-to-customer   \n29               DC020100  Custom,computer,software,physical,media,busine...   \n30               DC020200  Custom,computer,software,electronically,downlo...   \n31               DC020300  Custom,computer,software,load,leave,business-t...   \n32               DC020600  Computer,software,prewritten/canned,delivered,...   \n33               DC020400  Computer,software,prewritten/canned,physical,m...   \n34               DC020402  Computer,software,non-educational,prewritten/c...   \n35               DC020500  Computer,software,prewritten/canned,electronic...   \n36               DC020501  Computer,software,educational,prewritten/canne...   \n37               DC020502  Computer,software,non-educational,prewritten/c...   \n38               DC020503  Computer,software,non-educational,prewritten/c...   \n39               DC060000  Canned,software,license,renewals,periodic,lice...   \n40               DC070000                               Cloud/remote,storage   \n41               DD020000  Digital,goods,designs,plans,digital,physical,m...   \n42               DD040000  Digital,goods,documentation,digital,physical,m...   \n43               DG010000                                Digital,goods,games   \n44               DG010100                 Digital,goods,games-physical,media   \n45               DG010200  Digital,goods,games-streaming,electronic,download   \n46               DG010201  Games,streaming,electronic,download,see,additi...   \n47               DG010300      Games,electronic,download,permanent,ownership   \n48               DG010301  Games,streaming,electronic,download,less,perma...   \n49               DG010302  Games,streaming,electronic,download,less,perma...   \n\n        Additional AvaTax System Tax Code Information  \n2   Digital goods are generally viewed as download...  \n3   A digital good that has not been mapped to a s...  \n4   Tangible personal property (i.e. designs, artw...  \n5   Canned artwork that is transferred to the cust...  \n6   Audio (i.e. music or spoken word) that is tran...  \n7          Subscriptions to satellite radio services.  \n8                                                 NaN  \n9                                                 NaN  \n10                                                NaN  \n11                                                NaN  \n12                                                NaN  \n13  Blueprints that are transferred to the custome...  \n14  Books transferred to the customer through elec...  \n15                                                NaN  \n16                                                NaN  \n17                                                NaN  \n18                                                NaN  \n19                                                NaN  \n20  Computer software sold its various forms that ...  \n21  Customized software that is transferred throug...  \n22  Customized software that is transferred electr...  \n23  Customized software that is loaded on a custom...  \n24  Computer software that is transferred through ...  \n25  Computer software that is transferred electron...  \n26  Computer software that is loaded on a customer...  \n27  Software that is integral to the computer's op...  \n28  Computer software sold its various forms that ...  \n29  Customized software that is transferred throug...  \n30  Customized software that is transferred electr...  \n31  Customized software that is loaded on a custom...  \n32  Computer software that is loaded on a customer...  \n33  Computer software that is transferred through ...  \n34  Computer software that is primarily designed f...  \n35  Computer software that is transferred electron...  \n36  Computer software that is primarily designed f...  \n37  Computer software that is primarily designed f...  \n38                                                NaN  \n39                                                NaN  \n40                                                NaN  \n41  Designs or plans that are transferred to the c...  \n42  Other documentation that is not identified wit...  \n43  Games that are transferred to the customer thr...  \n44  Games that are transferred to the customer thr...  \n45  Games that are transferred to the customer thr...  \n46  Games that are transferred to the customer thr...  \n47                                                NaN  \n48                                                NaN  \n49                                                NaN  ",
      "text/html": "<div>\n<style scoped>\n    .dataframe tbody tr th:only-of-type {\n        vertical-align: middle;\n    }\n\n    .dataframe tbody tr th {\n        vertical-align: top;\n    }\n\n    .dataframe thead th {\n        text-align: right;\n    }\n</style>\n<table border=\"1\" class=\"dataframe\">\n  <thead>\n    <tr style=\"text-align: right;\">\n      <th></th>\n      <th>AvaTax System Tax Code</th>\n      <th>AvaTax System Tax Code Description</th>\n      <th>Additional AvaTax System Tax Code Information</th>\n    </tr>\n  </thead>\n  <tbody>\n    <tr>\n      <th>2</th>\n      <td>D0000000</td>\n      <td>Digital,goods</td>\n      <td>Digital goods are generally viewed as download...</td>\n    </tr>\n    <tr>\n      <th>3</th>\n      <td>D9999999</td>\n      <td>Temporary,unmapped,digital,goods,sku,taxable,d...</td>\n      <td>A digital good that has not been mapped to a s...</td>\n    </tr>\n    <tr>\n      <th>4</th>\n      <td>DA010000</td>\n      <td>Digital,goods,advertising,material,digital,phy...</td>\n      <td>Tangible personal property (i.e. designs, artw...</td>\n    </tr>\n    <tr>\n      <th>5</th>\n      <td>DA030000</td>\n      <td>Digital,goods,art,digital,physical,media</td>\n      <td>Canned artwork that is transferred to the cust...</td>\n    </tr>\n    <tr>\n      <th>6</th>\n      <td>DA040000</td>\n      <td>Digital,goods,audio,digital,physical,media</td>\n      <td>Audio (i.e. music or spoken word) that is tran...</td>\n    </tr>\n    <tr>\n      <th>7</th>\n      <td>DA040100</td>\n      <td>Radio,subscriptions</td>\n      <td>Subscriptions to satellite radio services.</td>\n    </tr>\n    <tr>\n      <th>8</th>\n      <td>DA050000</td>\n      <td>Digital,audio,works</td>\n      <td>NaN</td>\n    </tr>\n    <tr>\n      <th>9</th>\n      <td>DA051011</td>\n      <td>Digital,audio,works,sold,end,user,rights,perma...</td>\n      <td>NaN</td>\n    </tr>\n    <tr>\n      <th>10</th>\n      <td>DA051012</td>\n      <td>Digital,audio,works,rights,conditioned,continu...</td>\n      <td>NaN</td>\n    </tr>\n    <tr>\n      <th>11</th>\n      <td>DA051013</td>\n      <td>Digital,audio,works,sold,users,end,user</td>\n      <td>NaN</td>\n    </tr>\n    <tr>\n      <th>12</th>\n      <td>DA059399</td>\n      <td>Digital,audio,works,rights,less,permanent,use</td>\n      <td>NaN</td>\n    </tr>\n    <tr>\n      <th>13</th>\n      <td>DB010000</td>\n      <td>Digital,goods,blueprints,digital,physical,media</td>\n      <td>Blueprints that are transferred to the custome...</td>\n    </tr>\n    <tr>\n      <th>14</th>\n      <td>DB020000</td>\n      <td>Digital,goods,books,digital,physical,media</td>\n      <td>Books transferred to the customer through elec...</td>\n    </tr>\n    <tr>\n      <th>15</th>\n      <td>DB031000</td>\n      <td>Digital,books</td>\n      <td>NaN</td>\n    </tr>\n    <tr>\n      <th>16</th>\n      <td>DB031013</td>\n      <td>Digital,books,sold,end,user,rights,permanent,use</td>\n      <td>NaN</td>\n    </tr>\n    <tr>\n      <th>17</th>\n      <td>DB031014</td>\n      <td>Digital,books,rights,less,permanent,use</td>\n      <td>NaN</td>\n    </tr>\n    <tr>\n      <th>18</th>\n      <td>DB031015</td>\n      <td>Digital,books,rights,conditioned,continued,pay...</td>\n      <td>NaN</td>\n    </tr>\n    <tr>\n      <th>19</th>\n      <td>DB031016</td>\n      <td>Digital,books,sold,users,end,user</td>\n      <td>NaN</td>\n    </tr>\n    <tr>\n      <th>20</th>\n      <td>DC010000</td>\n      <td>Computer,software,business-to-business</td>\n      <td>Computer software sold its various forms that ...</td>\n    </tr>\n    <tr>\n      <th>21</th>\n      <td>DC010100</td>\n      <td>Custom,computer,software,physical,media,busine...</td>\n      <td>Customized software that is transferred throug...</td>\n    </tr>\n    <tr>\n      <th>22</th>\n      <td>DC010200</td>\n      <td>Custom,computer,software,electronically,downlo...</td>\n      <td>Customized software that is transferred electr...</td>\n    </tr>\n    <tr>\n      <th>23</th>\n      <td>DC010300</td>\n      <td>Custom,computer,software,load,leave,business-t...</td>\n      <td>Customized software that is loaded on a custom...</td>\n    </tr>\n    <tr>\n      <th>24</th>\n      <td>DC010400</td>\n      <td>Computer,software,prewritten/canned,physical,m...</td>\n      <td>Computer software that is transferred through ...</td>\n    </tr>\n    <tr>\n      <th>25</th>\n      <td>DC010500</td>\n      <td>Computer,software,prewritten/canned,electronic...</td>\n      <td>Computer software that is transferred electron...</td>\n    </tr>\n    <tr>\n      <th>26</th>\n      <td>DC010600</td>\n      <td>Computer,software,prewritten/canned,delivered,...</td>\n      <td>Computer software that is loaded on a customer...</td>\n    </tr>\n    <tr>\n      <th>27</th>\n      <td>DC011000</td>\n      <td>Computer,software,system,software</td>\n      <td>Software that is integral to the computer's op...</td>\n    </tr>\n    <tr>\n      <th>28</th>\n      <td>DC020000</td>\n      <td>Computer,software,business-to-customer</td>\n      <td>Computer software sold its various forms that ...</td>\n    </tr>\n    <tr>\n      <th>29</th>\n      <td>DC020100</td>\n      <td>Custom,computer,software,physical,media,busine...</td>\n      <td>Customized software that is transferred throug...</td>\n    </tr>\n    <tr>\n      <th>30</th>\n      <td>DC020200</td>\n      <td>Custom,computer,software,electronically,downlo...</td>\n      <td>Customized software that is transferred electr...</td>\n    </tr>\n    <tr>\n      <th>31</th>\n      <td>DC020300</td>\n      <td>Custom,computer,software,load,leave,business-t...</td>\n      <td>Customized software that is loaded on a custom...</td>\n    </tr>\n    <tr>\n      <th>32</th>\n      <td>DC020600</td>\n      <td>Computer,software,prewritten/canned,delivered,...</td>\n      <td>Computer software that is loaded on a customer...</td>\n    </tr>\n    <tr>\n      <th>33</th>\n      <td>DC020400</td>\n      <td>Computer,software,prewritten/canned,physical,m...</td>\n      <td>Computer software that is transferred through ...</td>\n    </tr>\n    <tr>\n      <th>34</th>\n      <td>DC020402</td>\n      <td>Computer,software,non-educational,prewritten/c...</td>\n      <td>Computer software that is primarily designed f...</td>\n    </tr>\n    <tr>\n      <th>35</th>\n      <td>DC020500</td>\n      <td>Computer,software,prewritten/canned,electronic...</td>\n      <td>Computer software that is transferred electron...</td>\n    </tr>\n    <tr>\n      <th>36</th>\n      <td>DC020501</td>\n      <td>Computer,software,educational,prewritten/canne...</td>\n      <td>Computer software that is primarily designed f...</td>\n    </tr>\n    <tr>\n      <th>37</th>\n      <td>DC020502</td>\n      <td>Computer,software,non-educational,prewritten/c...</td>\n      <td>Computer software that is primarily designed f...</td>\n    </tr>\n    <tr>\n      <th>38</th>\n      <td>DC020503</td>\n      <td>Computer,software,non-educational,prewritten/c...</td>\n      <td>NaN</td>\n    </tr>\n    <tr>\n      <th>39</th>\n      <td>DC060000</td>\n      <td>Canned,software,license,renewals,periodic,lice...</td>\n      <td>NaN</td>\n    </tr>\n    <tr>\n      <th>40</th>\n      <td>DC070000</td>\n      <td>Cloud/remote,storage</td>\n      <td>NaN</td>\n    </tr>\n    <tr>\n      <th>41</th>\n      <td>DD020000</td>\n      <td>Digital,goods,designs,plans,digital,physical,m...</td>\n      <td>Designs or plans that are transferred to the c...</td>\n    </tr>\n    <tr>\n      <th>42</th>\n      <td>DD040000</td>\n      <td>Digital,goods,documentation,digital,physical,m...</td>\n      <td>Other documentation that is not identified wit...</td>\n    </tr>\n    <tr>\n      <th>43</th>\n      <td>DG010000</td>\n      <td>Digital,goods,games</td>\n      <td>Games that are transferred to the customer thr...</td>\n    </tr>\n    <tr>\n      <th>44</th>\n      <td>DG010100</td>\n      <td>Digital,goods,games-physical,media</td>\n      <td>Games that are transferred to the customer thr...</td>\n    </tr>\n    <tr>\n      <th>45</th>\n      <td>DG010200</td>\n      <td>Digital,goods,games-streaming,electronic,download</td>\n      <td>Games that are transferred to the customer thr...</td>\n    </tr>\n    <tr>\n      <th>46</th>\n      <td>DG010201</td>\n      <td>Games,streaming,electronic,download,see,additi...</td>\n      <td>Games that are transferred to the customer thr...</td>\n    </tr>\n    <tr>\n      <th>47</th>\n      <td>DG010300</td>\n      <td>Games,electronic,download,permanent,ownership</td>\n      <td>NaN</td>\n    </tr>\n    <tr>\n      <th>48</th>\n      <td>DG010301</td>\n      <td>Games,streaming,electronic,download,less,perma...</td>\n      <td>NaN</td>\n    </tr>\n    <tr>\n      <th>49</th>\n      <td>DG010302</td>\n      <td>Games,streaming,electronic,download,less,perma...</td>\n      <td>NaN</td>\n    </tr>\n  </tbody>\n</table>\n</div>"
     },
     "execution_count": 116,
     "metadata": {},
     "output_type": "execute_result"
    }
   ],
   "source": [
    "# parse the stop words and special characters out\n",
    "from nltk.corpus import stopwords\n",
    "from nltk.tokenize import word_tokenize\n",
    "\n",
    "stop_words = set(stopwords.words('english'))\n",
    "stop_words.add(':')\n",
    "stop_words.add('--')\n",
    "stop_words.add('-')\n",
    "stop_words.add('(')\n",
    "stop_words.add(')')\n",
    "stop_words.add('/')\n",
    "stop_words.add('*')\n",
    "stop_words.add(';')\n",
    "\n",
    "column_name = 'AvaTax System Tax Code Description'\n",
    "\n",
    "for index, description in enumerate(df_xlsx[column_name], 2):\n",
    "    word_tokens = word_tokenize(description)\n",
    "\n",
    "    filtered_sentence = []\n",
    "    for w in word_tokens:\n",
    "        if w not in stop_words:\n",
    "            filtered_sentence.append(w)\n",
    "\n",
    "    # remove empty strings\n",
    "    while \"\" in filtered_sentence:\n",
    "        filtered_sentence.remove(\"\")\n",
    "\n",
    "    # updating record in AvaTax System Tax Code Description\n",
    "    df_xlsx.at[index, column_name]= ','.join(filtered_sentence)\n",
    "\n",
    "df_xlsx"
   ],
   "metadata": {
    "collapsed": false,
    "pycharm": {
     "name": "#%%\n"
    }
   }
  },
  {
   "cell_type": "code",
   "execution_count": 117,
   "id": "873c8d8a",
   "metadata": {
    "pycharm": {
     "name": "#%%\n"
    }
   },
   "outputs": [
    {
     "name": "stdout",
     "output_type": "stream",
     "text": [
      "{\n",
      "  \"D0\": {\n",
      "    \"00\": {\n",
      "      \"0000\": []\n",
      "    }\n",
      "  },\n",
      "  \"D9\": {\n",
      "    \"99\": {\n",
      "      \"9999\": []\n",
      "    }\n",
      "  },\n",
      "  \"DA\": {\n",
      "    \"01\": {\n",
      "      \"0000\": []\n",
      "    },\n",
      "    \"03\": {\n",
      "      \"0000\": []\n",
      "    },\n",
      "    \"04\": {\n",
      "      \"0000\": [],\n",
      "      \"0100\": []\n",
      "    },\n",
      "    \"05\": {\n",
      "      \"0000\": [],\n",
      "      \"1011\": [],\n",
      "      \"1012\": [],\n",
      "      \"1013\": [],\n",
      "      \"9399\": []\n",
      "    }\n",
      "  },\n",
      "  \"DB\": {\n",
      "    \"01\": {\n",
      "      \"0000\": []\n",
      "    },\n",
      "    \"02\": {\n",
      "      \"0000\": []\n",
      "    },\n",
      "    \"03\": {\n",
      "      \"1000\": [],\n",
      "      \"1013\": [],\n",
      "      \"1014\": [],\n",
      "      \"1015\": [],\n",
      "      \"1016\": []\n",
      "    }\n",
      "  },\n",
      "  \"DC\": {\n",
      "    \"01\": {\n",
      "      \"0000\": [],\n",
      "      \"0100\": [],\n",
      "      \"0200\": [],\n",
      "      \"0300\": [],\n",
      "      \"0400\": [],\n",
      "      \"0500\": [],\n",
      "      \"0600\": [],\n",
      "      \"1000\": []\n",
      "    },\n",
      "    \"02\": {\n",
      "      \"0000\": [],\n",
      "      \"0100\": [],\n",
      "      \"0200\": [],\n",
      "      \"0300\": [],\n",
      "      \"0400\": [],\n",
      "      \"0402\": [],\n",
      "      \"0500\": [],\n",
      "      \"0501\": [],\n",
      "      \"0502\": [],\n",
      "      \"0503\": [],\n",
      "      \"0600\": []\n",
      "    },\n",
      "    \"06\": {\n",
      "      \"0000\": []\n",
      "    },\n",
      "    \"07\": {\n",
      "      \"0000\": []\n",
      "    }\n",
      "  },\n",
      "  \"DD\": {\n",
      "    \"02\": {\n",
      "      \"0000\": []\n",
      "    },\n",
      "    \"04\": {\n",
      "      \"0000\": []\n",
      "    }\n",
      "  },\n",
      "  \"DG\": {\n",
      "    \"01\": {\n",
      "      \"0000\": [],\n",
      "      \"0100\": [],\n",
      "      \"0200\": [],\n",
      "      \"0201\": [],\n",
      "      \"0300\": [],\n",
      "      \"0301\": [],\n",
      "      \"0302\": []\n",
      "    }\n",
      "  }\n",
      "}\n"
     ]
    }
   ],
   "source": [
    "tc_hash_map = {}\n",
    "\n",
    "for tax_code in df_xlsx['AvaTax System Tax Code']:\n",
    "    level_1 = tax_code[0:2]\n",
    "    level_2 = tax_code[2:4]\n",
    "    level_3 = tax_code[4:8]\n",
    "    string_placeholder = []\n",
    "\n",
    "    if level_1 not in tc_hash_map:\n",
    "        tc_hash_map[level_1] = {\n",
    "            level_2: {level_3: string_placeholder}\n",
    "        }\n",
    "    elif level_2 not in tc_hash_map[level_1]:\n",
    "        tc_hash_map[level_1][level_2] = {level_3: string_placeholder}\n",
    "    elif level_3 not in tc_hash_map[level_1][level_2]:\n",
    "        tc_hash_map[level_1][level_2][level_3] = string_placeholder\n",
    "\n",
    "print(json.dumps(tc_hash_map, sort_keys=True, indent=2))"
   ]
  },
  {
   "cell_type": "code",
   "execution_count": 117,
   "outputs": [],
   "source": [],
   "metadata": {
    "collapsed": false,
    "pycharm": {
     "name": "#%%\n"
    }
   }
  }
 ],
 "metadata": {
  "kernelspec": {
   "display_name": "Python 3 (ipykernel)",
   "language": "python",
   "name": "python3"
  },
  "language_info": {
   "codemirror_mode": {
    "name": "ipython",
    "version": 3
   },
   "file_extension": ".py",
   "mimetype": "text/x-python",
   "name": "python",
   "nbconvert_exporter": "python",
   "pygments_lexer": "ipython3",
   "version": "3.10.6"
  }
 },
 "nbformat": 4,
 "nbformat_minor": 5
}