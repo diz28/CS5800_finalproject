{
 "cells": [
  {
   "cell_type": "code",
   "execution_count": 2,
   "id": "91432523",
   "metadata": {
    "scrolled": true
   },
   "outputs": [
    {
     "name": "stderr",
     "output_type": "stream",
     "text": [
      "/Library/Frameworks/Python.framework/Versions/3.8/lib/python3.8/site-packages/IPython/core/interactiveshell.py:3194: DtypeWarning: Columns (1,2,5,8,9,12,15,16) have mixed types.Specify dtype option on import or set low_memory=False.\n",
      "  has_raised = await self.run_ast_nodes(code_ast.body, cell_name,\n"
     ]
    }
   ],
   "source": [
    "import numpy as np\n",
    "import pandas as pd\n",
    "import json\n",
    "\n",
    "# read and convert excel and csv to DataFrame\n",
    "df_csv = pd.read_csv('UNSPSC_English.csv')\n",
    "df_xlsx = pd.read_excel('Avalara_goods_and_services.xlsx')"
   ]
  },
  {
   "cell_type": "code",
   "execution_count": 3,
   "id": "a5039cd4",
   "metadata": {
    "pycharm": {
     "name": "#%%\n"
    }
   },
   "outputs": [
    {
     "name": "stderr",
     "output_type": "stream",
     "text": [
      "[nltk_data] Downloading package stopwords to /Users/mikec/nltk_data...\n",
      "[nltk_data]   Package stopwords is already up-to-date!\n",
      "[nltk_data] Downloading package punkt to /Users/mikec/nltk_data...\n",
      "[nltk_data]   Package punkt is already up-to-date!\n"
     ]
    },
    {
     "data": {
      "text/plain": "True"
     },
     "execution_count": 3,
     "metadata": {},
     "output_type": "execute_result"
    }
   ],
   "source": [
    "# import nltk and download resources\n",
    "import nltk\n",
    "import ssl\n",
    "try:\n",
    "    _create_unverified_https_context = ssl._create_unverified_context\n",
    "except AttributeError:\n",
    "    pass\n",
    "else:\n",
    "    ssl._create_default_https_context = _create_unverified_https_context\n",
    "nltk.download('stopwords')\n",
    "nltk.download('punkt')"
   ]
  },
  {
   "cell_type": "code",
   "execution_count": 4,
   "id": "98db5645",
   "metadata": {
    "pycharm": {
     "name": "#%%\n"
    }
   },
   "outputs": [],
   "source": [
    "# parse the stop words and special characters out\n",
    "from nltk.corpus import stopwords\n",
    "from nltk.tokenize import word_tokenize\n",
    "\n",
    "stop_words = set(stopwords.words('english'))\n",
    "stop_words.add(':')\n",
    "stop_words.add('--')\n",
    "stop_words.add('-')\n",
    "stop_words.add('(')\n",
    "stop_words.add(')')\n",
    "stop_words.add('/')\n",
    "stop_words.add('*')\n",
    "stop_words.add(';')\n",
    "stop_words.add('.')\n",
    "stop_words.add('i.e')\n",
    "stop_words.add('A')\n",
    "stop_words.add('a')\n",
    "stop_words.add(',')"
   ]
  },
  {
   "cell_type": "code",
   "execution_count": 5,
   "outputs": [],
   "source": [
    "def containsLetterAndNumber(input):\n",
    "    has_letter = False\n",
    "    has_number = False\n",
    "    for x in input:\n",
    "        if x.isalpha():\n",
    "            has_letter = True\n",
    "        elif x.isnumeric():\n",
    "            has_number = True\n",
    "        if has_letter and has_number:\n",
    "            return True\n",
    "    return False"
   ],
   "metadata": {
    "collapsed": false,
    "pycharm": {
     "name": "#%%\n"
    }
   }
  },
  {
   "cell_type": "code",
   "execution_count": 6,
   "id": "50948c80",
   "metadata": {
    "pycharm": {
     "name": "#%%\n"
    }
   },
   "outputs": [],
   "source": [
    "def createParsedColumns(df, col1, col2, start_index, new_col):\n",
    "    for index1, description1 in enumerate(df[col1], start_index):\n",
    "        if not pd.isna(description1):\n",
    "            word_tokens1 = word_tokenize(description1)\n",
    "\n",
    "            filtered_sentence1 = []\n",
    "            for w1 in word_tokens1:\n",
    "                if not containsLetterAndNumber(w1) and w1 not in stop_words:\n",
    "                    filtered_sentence1.append(w1.lower())\n",
    "\n",
    "            # remove empty strings\n",
    "            while \"\" in filtered_sentence1:\n",
    "                filtered_sentence1.remove(\"\")\n",
    "\n",
    "            # updating record in col1\n",
    "            df.at[index1, col1]= ','.join(filtered_sentence1)\n",
    "        else:\n",
    "            df.at[index1, col1]= ''\n",
    "\n",
    "    for index2, description2 in enumerate(df[col2], start_index):\n",
    "        if not pd.isna(description2):\n",
    "            word_tokens2 = word_tokenize(description2)\n",
    "\n",
    "            filtered_sentence2 = []\n",
    "            for w2 in word_tokens2:\n",
    "                if not containsLetterAndNumber(w2) and w2 not in stop_words:\n",
    "                    filtered_sentence2.append(w2.lower())\n",
    "\n",
    "            # remove empty strings\n",
    "            while \"\" in filtered_sentence2:\n",
    "                filtered_sentence2.remove(\"\")\n",
    "\n",
    "            # updating record in col2\n",
    "            df.at[index2, col2]= ','.join(filtered_sentence2)\n",
    "        else:\n",
    "            df.at[index2, col2]= ''\n",
    "\n",
    "    # create 3rd column\n",
    "    new_column_series = []\n",
    "    for index3, description3 in enumerate(df[col2], start_index):\n",
    "        temp1 = df[col1].loc[index3].split(',')\n",
    "\n",
    "        if not pd.isna(description3):\n",
    "            temp2 = df[col2].loc[index3].split(',')\n",
    "            temp3 = temp1 + temp2\n",
    "            temp3 = set(temp3)\n",
    "\n",
    "            if '' in temp3:\n",
    "                temp3.remove('')\n",
    "\n",
    "            new_column_series.append(list(temp3))\n",
    "        else:\n",
    "            new_column_series.append(list(temp1))\n",
    "\n",
    "    # insert new column\n",
    "    df.insert(df.shape[1], new_col, new_column_series)"
   ]
  },
  {
   "cell_type": "code",
   "execution_count": 7,
   "outputs": [],
   "source": [
    "# rename column headers in Excel Avalara file and remove extra leading rows\n",
    "df_xlsx = df_xlsx.rename(columns={'Unnamed: 0':'AvaTax System Tax Code', 'AvaTax System Tax Codes':'AvaTax System Tax Code Description',\n",
    "                                 'Unnamed: 2':'Additional AvaTax System Tax Code Information'})\n",
    "df_xlsx = df_xlsx[2:]"
   ],
   "metadata": {
    "collapsed": false,
    "pycharm": {
     "name": "#%%\n"
    }
   }
  },
  {
   "cell_type": "code",
   "execution_count": 8,
   "outputs": [
    {
     "data": {
      "text/plain": "     AvaTax System Tax Code  \\\n2                  D0000000   \n3                  D9999999   \n4                  DA010000   \n5                  DA030000   \n6                  DA040000   \n...                     ...   \n2541               SY010200   \n2542               SL090200   \n2543               ST110000   \n2544               ST112506   \n2545               ST117162   \n\n                     AvaTax System Tax Code Description  \\\n2                                         digital,goods   \n3     temporary,unmapped,digital,goods,sku,taxable,d...   \n4     digital,goods,advertising,material,digital,phy...   \n5              digital,goods,art,digital,physical,media   \n6            digital,goods,audio,digital,physical,media   \n...                                                 ...   \n2541  yoga,classes,facilities,offer,services,yoga,cl...   \n2542                             lodging,accommodations   \n2543                                      travel,agency   \n2544                                 travel,agency,fees   \n2545                             travel,agency,services   \n\n          Additional AvaTax System Tax Code Information  \\\n2     digital,goods,generally,viewed,downloadable,it...   \n3     digital,good,mapped,specific,digital,good,tax,...   \n4     tangible,personal,property,designs,artwork,pho...   \n5     canned,artwork,transferred,customer,electronic...   \n6     audio,music,spoken,word,transferred,customer,e...   \n...                                                 ...   \n2541                                                      \n2542                                                      \n2543                                                      \n2544                                                      \n2545                                                      \n\n                                             tax_parsed  \n2     [sold, downloadable, movies, computer, pdfs, w...  \n3     [limited, default, use, getting, unmapped, rev...  \n4     [photos, customer, transferred, means, digital...  \n5     [art, canned, digital, artwork, media, electro...  \n6     [audio, digital, word, spoken, media, electron...  \n...                                                 ...  \n2541       [facilities, services, offer, classes, yoga]  \n2542                          [accommodations, lodging]  \n2543                                   [travel, agency]  \n2544                             [travel, fees, agency]  \n2545                         [travel, agency, services]  \n\n[2544 rows x 4 columns]",
      "text/html": "<div>\n<style scoped>\n    .dataframe tbody tr th:only-of-type {\n        vertical-align: middle;\n    }\n\n    .dataframe tbody tr th {\n        vertical-align: top;\n    }\n\n    .dataframe thead th {\n        text-align: right;\n    }\n</style>\n<table border=\"1\" class=\"dataframe\">\n  <thead>\n    <tr style=\"text-align: right;\">\n      <th></th>\n      <th>AvaTax System Tax Code</th>\n      <th>AvaTax System Tax Code Description</th>\n      <th>Additional AvaTax System Tax Code Information</th>\n      <th>tax_parsed</th>\n    </tr>\n  </thead>\n  <tbody>\n    <tr>\n      <th>2</th>\n      <td>D0000000</td>\n      <td>digital,goods</td>\n      <td>digital,goods,generally,viewed,downloadable,it...</td>\n      <td>[sold, downloadable, movies, computer, pdfs, w...</td>\n    </tr>\n    <tr>\n      <th>3</th>\n      <td>D9999999</td>\n      <td>temporary,unmapped,digital,goods,sku,taxable,d...</td>\n      <td>digital,good,mapped,specific,digital,good,tax,...</td>\n      <td>[limited, default, use, getting, unmapped, rev...</td>\n    </tr>\n    <tr>\n      <th>4</th>\n      <td>DA010000</td>\n      <td>digital,goods,advertising,material,digital,phy...</td>\n      <td>tangible,personal,property,designs,artwork,pho...</td>\n      <td>[photos, customer, transferred, means, digital...</td>\n    </tr>\n    <tr>\n      <th>5</th>\n      <td>DA030000</td>\n      <td>digital,goods,art,digital,physical,media</td>\n      <td>canned,artwork,transferred,customer,electronic...</td>\n      <td>[art, canned, digital, artwork, media, electro...</td>\n    </tr>\n    <tr>\n      <th>6</th>\n      <td>DA040000</td>\n      <td>digital,goods,audio,digital,physical,media</td>\n      <td>audio,music,spoken,word,transferred,customer,e...</td>\n      <td>[audio, digital, word, spoken, media, electron...</td>\n    </tr>\n    <tr>\n      <th>...</th>\n      <td>...</td>\n      <td>...</td>\n      <td>...</td>\n      <td>...</td>\n    </tr>\n    <tr>\n      <th>2541</th>\n      <td>SY010200</td>\n      <td>yoga,classes,facilities,offer,services,yoga,cl...</td>\n      <td></td>\n      <td>[facilities, services, offer, classes, yoga]</td>\n    </tr>\n    <tr>\n      <th>2542</th>\n      <td>SL090200</td>\n      <td>lodging,accommodations</td>\n      <td></td>\n      <td>[accommodations, lodging]</td>\n    </tr>\n    <tr>\n      <th>2543</th>\n      <td>ST110000</td>\n      <td>travel,agency</td>\n      <td></td>\n      <td>[travel, agency]</td>\n    </tr>\n    <tr>\n      <th>2544</th>\n      <td>ST112506</td>\n      <td>travel,agency,fees</td>\n      <td></td>\n      <td>[travel, fees, agency]</td>\n    </tr>\n    <tr>\n      <th>2545</th>\n      <td>ST117162</td>\n      <td>travel,agency,services</td>\n      <td></td>\n      <td>[travel, agency, services]</td>\n    </tr>\n  </tbody>\n</table>\n<p>2544 rows × 4 columns</p>\n</div>"
     },
     "execution_count": 8,
     "metadata": {},
     "output_type": "execute_result"
    }
   ],
   "source": [
    "column_name = 'AvaTax System Tax Code Description'\n",
    "column_name_2 = 'Additional AvaTax System Tax Code Information'\n",
    "new_col_name = 'tax_parsed'\n",
    "createParsedColumns(df_xlsx, column_name, column_name_2, 2, new_col_name)\n",
    "df_xlsx.to_csv(\"avalara_parsed_2.csv\")\n",
    "\n",
    "df_xlsx"
   ],
   "metadata": {
    "collapsed": false,
    "pycharm": {
     "name": "#%%\n"
    }
   }
  },
  {
   "cell_type": "code",
   "execution_count": 9,
   "id": "2a781c4c",
   "metadata": {
    "pycharm": {
     "name": "#%%\n"
    }
   },
   "outputs": [],
   "source": [
    "# Convert row to header and remove the extra leading rows; also remove extra columns\n",
    "df_csv = df_csv.rename(columns=df_csv.iloc[8])\n",
    "df_csv = df_csv.loc[9:]\n",
    "df_csv = df_csv.drop(columns = ['Version', 'Key', 'Column1', 'Synonym', 'Acronym'])"
   ]
  },
  {
   "cell_type": "code",
   "execution_count": 10,
   "outputs": [],
   "source": [
    "column_name = 'Segment Title'\n",
    "column_name_2 = 'Segment Definition'\n",
    "column_name_3 = 'Family Title'\n",
    "column_name_4 = 'Family Definition'\n",
    "column_name_5 = 'Class Title'\n",
    "column_name_6 = 'Class Definition'\n",
    "column_name_7 = 'Commodity Title'\n",
    "column_name_8 = 'Definition'\n",
    "createParsedColumns(df_csv, column_name, column_name_2, 9, 'segment_parsed')\n",
    "createParsedColumns(df_csv, column_name_3, column_name_4, 9, 'family_parsed')\n",
    "createParsedColumns(df_csv, column_name_5, column_name_6, 9, 'class_parsed')\n",
    "createParsedColumns(df_csv, column_name_7, column_name_8, 9, 'commodity_parsed')"
   ],
   "metadata": {
    "collapsed": false,
    "pycharm": {
     "name": "#%%\n"
    }
   }
  },
  {
   "cell_type": "code",
   "execution_count": 11,
   "outputs": [],
   "source": [
    "def setDiffKeyWords(df, col1, col2, start_index):\n",
    "    # col1 is the higher level node\n",
    "    for index in range(start_index, len(df.index)):\n",
    "        set_1 = set() if not df[col1].iloc[index] else set(df[col1].iloc[index])\n",
    "        set_2 = set() if not df[col2].iloc[index] else set(df[col2].iloc[index])\n",
    "        set_diff = set_2 - set_1\n",
    "        df.at[index, col2]= list(set_diff)"
   ],
   "metadata": {
    "collapsed": false,
    "pycharm": {
     "name": "#%%\n"
    }
   }
  },
  {
   "cell_type": "code",
   "execution_count": 12,
   "outputs": [
    {
     "data": {
      "text/plain": "         Segment                                    Segment Title  \\\n9       10000000  live,plant,animal,material,accessories,supplies   \n10      10000000  live,plant,animal,material,accessories,supplies   \n11      10000000  live,plant,animal,material,accessories,supplies   \n12      10000000  live,plant,animal,material,accessories,supplies   \n13      10000000  live,plant,animal,material,accessories,supplies   \n...          ...                                              ...   \n156402  95000000          land,buildings,structures,thoroughfares   \n156403  95000000          land,buildings,structures,thoroughfares   \n156404  95000000          land,buildings,structures,thoroughfares   \n156405  95000000          land,buildings,structures,thoroughfares   \n156406  95000000          land,buildings,structures,thoroughfares   \n\n                                       Segment Definition      Family  \\\n9       this,segment,includes,live,wild,domesticated,s...         NaN   \n10      this,segment,includes,live,wild,domesticated,s...    10100000   \n11      this,segment,includes,live,wild,domesticated,s...    10100000   \n12      this,segment,includes,live,wild,domesticated,s...    10100000   \n13      this,segment,includes,live,wild,domesticated,s...    10100000   \n...                                                   ...         ...   \n156402  land,waterways,related,real,property,physical,...  95140000.0   \n156403  land,waterways,related,real,property,physical,...  95140000.0   \n156404  land,waterways,related,real,property,physical,...  95140000.0   \n156405  land,waterways,related,real,property,physical,...  95140000.0   \n156406  land,waterways,related,real,property,physical,...  95140000.0   \n\n                              Family Title  \\\n9                                            \n10                            live,animals   \n11                            live,animals   \n12                            live,animals   \n13                            live,animals   \n...                                    ...   \n156402  prefabricated,buildings,structures   \n156403  prefabricated,buildings,structures   \n156404  prefabricated,buildings,structures   \n156405  prefabricated,buildings,structures   \n156406  prefabricated,buildings,structures   \n\n                                        Family Definition       Class  \\\n9                                                                 NaN   \n10                                                                NaN   \n11                                                           10101500   \n12                                                           10101500   \n13                                                           10101500   \n...                                                   ...         ...   \n156402  buildings,structures,used,various,farm,related...  95141900.0   \n156403  buildings,structures,used,various,farm,related...  95141900.0   \n156404  buildings,structures,used,various,farm,related...  95141900.0   \n156405  buildings,structures,used,various,farm,related...  95141900.0   \n156406  buildings,structures,used,various,farm,related...  95141900.0   \n\n                                       Class Title  \\\n9                                                    \n10                                                   \n11                                       livestock   \n12                                       livestock   \n13                                       livestock   \n...                                            ...   \n156402  prefabricated,medical,buildings,structures   \n156403  prefabricated,medical,buildings,structures   \n156404  prefabricated,medical,buildings,structures   \n156405  prefabricated,medical,buildings,structures   \n156406  prefabricated,medical,buildings,structures   \n\n                                         Class Definition   Commodity  \\\n9                                                                 NaN   \n10                                                                NaN   \n11                                                                NaN   \n12                                                           10101501   \n13                                                           10101502   \n...                                                   ...         ...   \n156402  buildings,structures,used,medical,purposes,pre...         NaN   \n156403  buildings,structures,used,medical,purposes,pre...  95141901.0   \n156404  buildings,structures,used,medical,purposes,pre...  95141902.0   \n156405  buildings,structures,used,medical,purposes,pre...  95141903.0   \n156406  buildings,structures,used,medical,purposes,pre...  95141904.0   \n\n        Commodity Title                                         Definition  \\\n9                                                                            \n10                                                                           \n11                                                                           \n12                 cats                                                      \n13                 dogs                                                      \n...                 ...                                                ...   \n156402                                                                       \n156403     medical,unit  building,structure,medical,equipment,house,use...   \n156404  laboratory,unit  building,structure,laboratory,equipment,house,...   \n156405      dental,unit  building,structure,dental,equipment,house,used...   \n156406   surgical,units  building,structure,surgical,equipment,house,us...   \n\n                                           segment_parsed  \\\n9       [containment, live, animals, plants, wild, dom...   \n10      [containment, live, animals, plants, wild, dom...   \n11      [containment, live, animals, plants, wild, dom...   \n12      [containment, live, animals, plants, wild, dom...   \n13      [containment, live, animals, plants, wild, dom...   \n...                                                   ...   \n156402  [structures, assets, buildings, thoroughfares,...   \n156403  [structures, assets, buildings, thoroughfares,...   \n156404  [structures, assets, buildings, thoroughfares,...   \n156405  [structures, assets, buildings, thoroughfares,...   \n156406  [structures, assets, buildings, thoroughfares,...   \n\n                                            family_parsed  \\\n9                                                      []   \n10                                                     []   \n11                                                     []   \n12                                                     []   \n13                                                     []   \n...                                                   ...   \n156402  [structures, location, used, pre-constructed, ...   \n156403  [structures, location, used, pre-constructed, ...   \n156404  [structures, location, used, pre-constructed, ...   \n156405  [structures, location, used, pre-constructed, ...   \n156406  [structures, location, used, pre-constructed, ...   \n\n                                             class_parsed  \\\n9                                             [livestock]   \n10                                            [livestock]   \n11                                            [livestock]   \n12                                            [livestock]   \n13                                            [livestock]   \n...                                                   ...   \n156402  [structures, location, used, pre-constructed, ...   \n156403  [structures, location, used, pre-constructed, ...   \n156404  [structures, location, used, pre-constructed, ...   \n156405  [structures, location, used, pre-constructed, ...   \n156406  [structures, location, used, pre-constructed, ...   \n\n                                         commodity_parsed  \n9                                                 [goats]  \n10                                                [asses]  \n11                                                 [mice]  \n12                                                [swine]  \n13                                              [rabbits]  \n...                                                   ...  \n156402                                                 []  \n156403  [experiments, used, equipment, unit, building,...  \n156404  [experiments, used, equipment, unit, building,...  \n156405  [dental, experiments, used, equipment, unit, b...  \n156406  [units, experiments, used, equipment, building...  \n\n[156398 rows x 16 columns]",
      "text/html": "<div>\n<style scoped>\n    .dataframe tbody tr th:only-of-type {\n        vertical-align: middle;\n    }\n\n    .dataframe tbody tr th {\n        vertical-align: top;\n    }\n\n    .dataframe thead th {\n        text-align: right;\n    }\n</style>\n<table border=\"1\" class=\"dataframe\">\n  <thead>\n    <tr style=\"text-align: right;\">\n      <th></th>\n      <th>Segment</th>\n      <th>Segment Title</th>\n      <th>Segment Definition</th>\n      <th>Family</th>\n      <th>Family Title</th>\n      <th>Family Definition</th>\n      <th>Class</th>\n      <th>Class Title</th>\n      <th>Class Definition</th>\n      <th>Commodity</th>\n      <th>Commodity Title</th>\n      <th>Definition</th>\n      <th>segment_parsed</th>\n      <th>family_parsed</th>\n      <th>class_parsed</th>\n      <th>commodity_parsed</th>\n    </tr>\n  </thead>\n  <tbody>\n    <tr>\n      <th>9</th>\n      <td>10000000</td>\n      <td>live,plant,animal,material,accessories,supplies</td>\n      <td>this,segment,includes,live,wild,domesticated,s...</td>\n      <td>NaN</td>\n      <td></td>\n      <td></td>\n      <td>NaN</td>\n      <td></td>\n      <td></td>\n      <td>NaN</td>\n      <td></td>\n      <td></td>\n      <td>[containment, live, animals, plants, wild, dom...</td>\n      <td>[]</td>\n      <td>[livestock]</td>\n      <td>[goats]</td>\n    </tr>\n    <tr>\n      <th>10</th>\n      <td>10000000</td>\n      <td>live,plant,animal,material,accessories,supplies</td>\n      <td>this,segment,includes,live,wild,domesticated,s...</td>\n      <td>10100000</td>\n      <td>live,animals</td>\n      <td></td>\n      <td>NaN</td>\n      <td></td>\n      <td></td>\n      <td>NaN</td>\n      <td></td>\n      <td></td>\n      <td>[containment, live, animals, plants, wild, dom...</td>\n      <td>[]</td>\n      <td>[livestock]</td>\n      <td>[asses]</td>\n    </tr>\n    <tr>\n      <th>11</th>\n      <td>10000000</td>\n      <td>live,plant,animal,material,accessories,supplies</td>\n      <td>this,segment,includes,live,wild,domesticated,s...</td>\n      <td>10100000</td>\n      <td>live,animals</td>\n      <td></td>\n      <td>10101500</td>\n      <td>livestock</td>\n      <td></td>\n      <td>NaN</td>\n      <td></td>\n      <td></td>\n      <td>[containment, live, animals, plants, wild, dom...</td>\n      <td>[]</td>\n      <td>[livestock]</td>\n      <td>[mice]</td>\n    </tr>\n    <tr>\n      <th>12</th>\n      <td>10000000</td>\n      <td>live,plant,animal,material,accessories,supplies</td>\n      <td>this,segment,includes,live,wild,domesticated,s...</td>\n      <td>10100000</td>\n      <td>live,animals</td>\n      <td></td>\n      <td>10101500</td>\n      <td>livestock</td>\n      <td></td>\n      <td>10101501</td>\n      <td>cats</td>\n      <td></td>\n      <td>[containment, live, animals, plants, wild, dom...</td>\n      <td>[]</td>\n      <td>[livestock]</td>\n      <td>[swine]</td>\n    </tr>\n    <tr>\n      <th>13</th>\n      <td>10000000</td>\n      <td>live,plant,animal,material,accessories,supplies</td>\n      <td>this,segment,includes,live,wild,domesticated,s...</td>\n      <td>10100000</td>\n      <td>live,animals</td>\n      <td></td>\n      <td>10101500</td>\n      <td>livestock</td>\n      <td></td>\n      <td>10101502</td>\n      <td>dogs</td>\n      <td></td>\n      <td>[containment, live, animals, plants, wild, dom...</td>\n      <td>[]</td>\n      <td>[livestock]</td>\n      <td>[rabbits]</td>\n    </tr>\n    <tr>\n      <th>...</th>\n      <td>...</td>\n      <td>...</td>\n      <td>...</td>\n      <td>...</td>\n      <td>...</td>\n      <td>...</td>\n      <td>...</td>\n      <td>...</td>\n      <td>...</td>\n      <td>...</td>\n      <td>...</td>\n      <td>...</td>\n      <td>...</td>\n      <td>...</td>\n      <td>...</td>\n      <td>...</td>\n    </tr>\n    <tr>\n      <th>156402</th>\n      <td>95000000</td>\n      <td>land,buildings,structures,thoroughfares</td>\n      <td>land,waterways,related,real,property,physical,...</td>\n      <td>95140000.0</td>\n      <td>prefabricated,buildings,structures</td>\n      <td>buildings,structures,used,various,farm,related...</td>\n      <td>95141900.0</td>\n      <td>prefabricated,medical,buildings,structures</td>\n      <td>buildings,structures,used,medical,purposes,pre...</td>\n      <td>NaN</td>\n      <td></td>\n      <td></td>\n      <td>[structures, assets, buildings, thoroughfares,...</td>\n      <td>[structures, location, used, pre-constructed, ...</td>\n      <td>[structures, location, used, pre-constructed, ...</td>\n      <td>[]</td>\n    </tr>\n    <tr>\n      <th>156403</th>\n      <td>95000000</td>\n      <td>land,buildings,structures,thoroughfares</td>\n      <td>land,waterways,related,real,property,physical,...</td>\n      <td>95140000.0</td>\n      <td>prefabricated,buildings,structures</td>\n      <td>buildings,structures,used,various,farm,related...</td>\n      <td>95141900.0</td>\n      <td>prefabricated,medical,buildings,structures</td>\n      <td>buildings,structures,used,medical,purposes,pre...</td>\n      <td>95141901.0</td>\n      <td>medical,unit</td>\n      <td>building,structure,medical,equipment,house,use...</td>\n      <td>[structures, assets, buildings, thoroughfares,...</td>\n      <td>[structures, location, used, pre-constructed, ...</td>\n      <td>[structures, location, used, pre-constructed, ...</td>\n      <td>[experiments, used, equipment, unit, building,...</td>\n    </tr>\n    <tr>\n      <th>156404</th>\n      <td>95000000</td>\n      <td>land,buildings,structures,thoroughfares</td>\n      <td>land,waterways,related,real,property,physical,...</td>\n      <td>95140000.0</td>\n      <td>prefabricated,buildings,structures</td>\n      <td>buildings,structures,used,various,farm,related...</td>\n      <td>95141900.0</td>\n      <td>prefabricated,medical,buildings,structures</td>\n      <td>buildings,structures,used,medical,purposes,pre...</td>\n      <td>95141902.0</td>\n      <td>laboratory,unit</td>\n      <td>building,structure,laboratory,equipment,house,...</td>\n      <td>[structures, assets, buildings, thoroughfares,...</td>\n      <td>[structures, location, used, pre-constructed, ...</td>\n      <td>[structures, location, used, pre-constructed, ...</td>\n      <td>[experiments, used, equipment, unit, building,...</td>\n    </tr>\n    <tr>\n      <th>156405</th>\n      <td>95000000</td>\n      <td>land,buildings,structures,thoroughfares</td>\n      <td>land,waterways,related,real,property,physical,...</td>\n      <td>95140000.0</td>\n      <td>prefabricated,buildings,structures</td>\n      <td>buildings,structures,used,various,farm,related...</td>\n      <td>95141900.0</td>\n      <td>prefabricated,medical,buildings,structures</td>\n      <td>buildings,structures,used,medical,purposes,pre...</td>\n      <td>95141903.0</td>\n      <td>dental,unit</td>\n      <td>building,structure,dental,equipment,house,used...</td>\n      <td>[structures, assets, buildings, thoroughfares,...</td>\n      <td>[structures, location, used, pre-constructed, ...</td>\n      <td>[structures, location, used, pre-constructed, ...</td>\n      <td>[dental, experiments, used, equipment, unit, b...</td>\n    </tr>\n    <tr>\n      <th>156406</th>\n      <td>95000000</td>\n      <td>land,buildings,structures,thoroughfares</td>\n      <td>land,waterways,related,real,property,physical,...</td>\n      <td>95140000.0</td>\n      <td>prefabricated,buildings,structures</td>\n      <td>buildings,structures,used,various,farm,related...</td>\n      <td>95141900.0</td>\n      <td>prefabricated,medical,buildings,structures</td>\n      <td>buildings,structures,used,medical,purposes,pre...</td>\n      <td>95141904.0</td>\n      <td>surgical,units</td>\n      <td>building,structure,surgical,equipment,house,us...</td>\n      <td>[structures, assets, buildings, thoroughfares,...</td>\n      <td>[structures, location, used, pre-constructed, ...</td>\n      <td>[structures, location, used, pre-constructed, ...</td>\n      <td>[units, experiments, used, equipment, building...</td>\n    </tr>\n  </tbody>\n</table>\n<p>156398 rows × 16 columns</p>\n</div>"
     },
     "execution_count": 12,
     "metadata": {},
     "output_type": "execute_result"
    }
   ],
   "source": [
    "col_seg = 'segment_parsed'\n",
    "col_fam = 'family_parsed'\n",
    "col_cls = 'class_parsed'\n",
    "col_com = 'commodity_parsed'\n",
    "setDiffKeyWords(df_csv, col_seg, col_fam, 9)\n",
    "setDiffKeyWords(df_csv, col_fam, col_cls, 9)\n",
    "setDiffKeyWords(df_csv, col_cls, col_com, 9)\n",
    "df_csv.to_csv(\"unspc_parsed_2.csv\")\n",
    "\n",
    "df_csv"
   ],
   "metadata": {
    "collapsed": false,
    "pycharm": {
     "name": "#%%\n"
    }
   }
  },
  {
   "cell_type": "code",
   "execution_count": 13,
   "outputs": [],
   "source": [
    "from collections import defaultdict\n",
    "\n",
    "factory = lambda: defaultdict(factory)\n",
    "\n",
    "unspc_segments = defaultdict(factory)\n",
    "unspc_family = defaultdict(factory)\n",
    "unspc_class = defaultdict(factory)\n",
    "unspc_commodity = defaultdict(factory)\n",
    "\n",
    "unspc_family_full = defaultdict(factory)\n",
    "unspc_class_full = defaultdict(factory)\n",
    "unspc_commodity_full = defaultdict(factory)\n",
    "\n",
    "for index in range(9, len(df_csv.index)):\n",
    "    if not pd.isna(df_csv['Commodity'].iloc[index]):\n",
    "        seg_key = str(df_csv['Commodity'].iloc[index])[:2]\n",
    "        fam_key = str(df_csv['Commodity'].iloc[index])[2:4]\n",
    "        class_key = str(df_csv['Commodity'].iloc[index])[4:6]\n",
    "        com_key = str(df_csv['Commodity'].iloc[index])[6:8]\n",
    "    elif not pd.isna(df_csv['Class'].iloc[index]):\n",
    "        seg_key = str(df_csv['Class'].iloc[index])[:2]\n",
    "        fam_key = str(df_csv['Class'].iloc[index])[2:4]\n",
    "        class_key = str(df_csv['Class'].iloc[index])[4:6]\n",
    "        com_key = \"\"\n",
    "    elif not pd.isna(df_csv['Family'].iloc[index]):\n",
    "        seg_key = str(df_csv['Family'].iloc[index])[:2]\n",
    "        fam_key = str(df_csv['Family'].iloc[index])[2:4]\n",
    "        class_key = \"\"\n",
    "        com_key = \"\"\n",
    "    elif not pd.isna(df_csv['Segment'].iloc[index]):\n",
    "        seg_key = str(df_csv['Segment'].iloc[index])[:2]\n",
    "        fam_key = \"\"\n",
    "        class_key = \"\"\n",
    "        com_key = \"\"\n",
    "    else:\n",
    "        seg_key = \"\"\n",
    "        fam_key = \"\"\n",
    "        class_key = \"\"\n",
    "        com_key = \"\"\n",
    "\n",
    "    # segments hash map\n",
    "    if seg_key:\n",
    "        if seg_key not in unspc_segments:\n",
    "            unspc_segments[seg_key] = df_csv['segment_parsed'].iloc[index]\n",
    "\n",
    "    # family hash map\n",
    "    if seg_key and fam_key:\n",
    "        if seg_key not in unspc_family:\n",
    "            unspc_family[seg_key][fam_key] = df_csv['family_parsed'].iloc[index]\n",
    "        elif fam_key not in unspc_family[seg_key]:\n",
    "            unspc_family[seg_key][fam_key] = df_csv['family_parsed'].iloc[index]\n",
    "\n",
    "        if seg_key + fam_key not in unspc_family_full:\n",
    "            unspc_family_full[seg_key + fam_key] = df_csv['family_parsed'].iloc[index]\n",
    "\n",
    "    # class hash map\n",
    "    if seg_key and fam_key and class_key:\n",
    "        if seg_key not in unspc_class:\n",
    "            unspc_class[seg_key][fam_key][class_key] = df_csv['class_parsed'].iloc[index]\n",
    "        elif fam_key not in unspc_class[seg_key]:\n",
    "            unspc_class[seg_key][fam_key][class_key] = df_csv['class_parsed'].iloc[index]\n",
    "        elif class_key not in unspc_class[seg_key][fam_key]:\n",
    "            unspc_class[seg_key][fam_key][class_key] = df_csv['class_parsed'].iloc[index]\n",
    "\n",
    "        if seg_key + fam_key + class_key not in unspc_class_full:\n",
    "            unspc_class_full[seg_key + fam_key + class_key] = df_csv['class_parsed'].iloc[index]\n",
    "\n",
    "    # commodity hash map\n",
    "    if seg_key and fam_key and class_key and com_key:\n",
    "        if seg_key not in unspc_class:\n",
    "            unspc_commodity[seg_key][fam_key][class_key][com_key] = df_csv['commodity_parsed'].iloc[index]\n",
    "        elif fam_key not in unspc_commodity[seg_key]:\n",
    "            unspc_commodity[seg_key][fam_key][class_key][com_key] = df_csv['commodity_parsed'].iloc[index]\n",
    "        elif class_key not in unspc_commodity[seg_key][fam_key]:\n",
    "            unspc_commodity[seg_key][fam_key][class_key][com_key] = df_csv['commodity_parsed'].iloc[index]\n",
    "        elif com_key not in unspc_commodity[seg_key][fam_key][class_key]:\n",
    "            unspc_commodity[seg_key][fam_key][class_key][com_key] = df_csv['commodity_parsed'].iloc[index]\n",
    "\n",
    "        if seg_key + fam_key + class_key + com_key not in unspc_class_full:\n",
    "            unspc_commodity_full[seg_key + fam_key + class_key + com_key] = df_csv['commodity_parsed'].iloc[index]\n",
    "\n",
    "with open(\"segments.json\", \"w\") as outfile:\n",
    "    json.dump(unspc_segments, outfile)\n",
    "\n",
    "with open(\"family.json\", \"w\") as outfile:\n",
    "    json.dump(unspc_family, outfile)\n",
    "\n",
    "with open(\"class.json\", \"w\") as outfile:\n",
    "    json.dump(unspc_class, outfile)\n",
    "\n",
    "with open(\"commodity.json\", \"w\") as outfile:\n",
    "    json.dump(unspc_commodity, outfile)\n"
   ],
   "metadata": {
    "collapsed": false,
    "pycharm": {
     "name": "#%%\n"
    }
   }
  },
  {
   "cell_type": "code",
   "execution_count": 14,
   "outputs": [
    {
     "ename": "KeyboardInterrupt",
     "evalue": "",
     "output_type": "error",
     "traceback": [
      "\u001B[0;31m---------------------------------------------------------------------------\u001B[0m",
      "\u001B[0;31mKeyboardInterrupt\u001B[0m                         Traceback (most recent call last)",
      "Cell \u001B[0;32mIn[14], line 44\u001B[0m\n\u001B[1;32m     42\u001B[0m \u001B[38;5;28;01mfor\u001B[39;00m commodity_key, commodity_keywords \u001B[38;5;129;01min\u001B[39;00m unspc_commodity_full\u001B[38;5;241m.\u001B[39mitems():\n\u001B[1;32m     43\u001B[0m     \u001B[38;5;28;01mfor\u001B[39;00m index, keyword_arr_avalara \u001B[38;5;129;01min\u001B[39;00m \u001B[38;5;28menumerate\u001B[39m((df_xlsx[\u001B[38;5;124m\"\u001B[39m\u001B[38;5;124mtax_parsed\u001B[39m\u001B[38;5;124m\"\u001B[39m])):\n\u001B[0;32m---> 44\u001B[0m         num_matches \u001B[38;5;241m=\u001B[39m \u001B[38;5;28mlen\u001B[39m(\u001B[43mnp\u001B[49m\u001B[38;5;241;43m.\u001B[39;49m\u001B[43mintersect1d\u001B[49m\u001B[43m(\u001B[49m\u001B[43mkeyword_arr_avalara\u001B[49m\u001B[43m,\u001B[49m\u001B[43m \u001B[49m\u001B[43mcommodity_keywords\u001B[49m\u001B[43m)\u001B[49m)\n\u001B[1;32m     45\u001B[0m         \u001B[38;5;28;01mif\u001B[39;00m num_matches \u001B[38;5;241m>\u001B[39m \u001B[38;5;241m0\u001B[39m:\n\u001B[1;32m     46\u001B[0m             tax_code \u001B[38;5;241m=\u001B[39m df_xlsx[\u001B[38;5;124m\"\u001B[39m\u001B[38;5;124mAvaTax System Tax Code\u001B[39m\u001B[38;5;124m\"\u001B[39m]\u001B[38;5;241m.\u001B[39miloc[index]\n",
      "File \u001B[0;32m<__array_function__ internals>:5\u001B[0m, in \u001B[0;36mintersect1d\u001B[0;34m(*args, **kwargs)\u001B[0m\n",
      "File \u001B[0;32m/Library/Frameworks/Python.framework/Versions/3.8/lib/python3.8/site-packages/numpy/lib/arraysetops.py:417\u001B[0m, in \u001B[0;36mintersect1d\u001B[0;34m(ar1, ar2, assume_unique, return_indices)\u001B[0m\n\u001B[1;32m    415\u001B[0m     \u001B[38;5;28;01melse\u001B[39;00m:\n\u001B[1;32m    416\u001B[0m         ar1 \u001B[38;5;241m=\u001B[39m unique(ar1)\n\u001B[0;32m--> 417\u001B[0m         ar2 \u001B[38;5;241m=\u001B[39m \u001B[43munique\u001B[49m\u001B[43m(\u001B[49m\u001B[43mar2\u001B[49m\u001B[43m)\u001B[49m\n\u001B[1;32m    418\u001B[0m \u001B[38;5;28;01melse\u001B[39;00m:\n\u001B[1;32m    419\u001B[0m     ar1 \u001B[38;5;241m=\u001B[39m ar1\u001B[38;5;241m.\u001B[39mravel()\n",
      "File \u001B[0;32m<__array_function__ internals>:5\u001B[0m, in \u001B[0;36munique\u001B[0;34m(*args, **kwargs)\u001B[0m\n",
      "File \u001B[0;32m/Library/Frameworks/Python.framework/Versions/3.8/lib/python3.8/site-packages/numpy/lib/arraysetops.py:261\u001B[0m, in \u001B[0;36munique\u001B[0;34m(ar, return_index, return_inverse, return_counts, axis)\u001B[0m\n\u001B[1;32m    259\u001B[0m ar \u001B[38;5;241m=\u001B[39m np\u001B[38;5;241m.\u001B[39masanyarray(ar)\n\u001B[1;32m    260\u001B[0m \u001B[38;5;28;01mif\u001B[39;00m axis \u001B[38;5;129;01mis\u001B[39;00m \u001B[38;5;28;01mNone\u001B[39;00m:\n\u001B[0;32m--> 261\u001B[0m     ret \u001B[38;5;241m=\u001B[39m \u001B[43m_unique1d\u001B[49m\u001B[43m(\u001B[49m\u001B[43mar\u001B[49m\u001B[43m,\u001B[49m\u001B[43m \u001B[49m\u001B[43mreturn_index\u001B[49m\u001B[43m,\u001B[49m\u001B[43m \u001B[49m\u001B[43mreturn_inverse\u001B[49m\u001B[43m,\u001B[49m\u001B[43m \u001B[49m\u001B[43mreturn_counts\u001B[49m\u001B[43m)\u001B[49m\n\u001B[1;32m    262\u001B[0m     \u001B[38;5;28;01mreturn\u001B[39;00m _unpack_tuple(ret)\n\u001B[1;32m    264\u001B[0m \u001B[38;5;66;03m# axis was specified and not None\u001B[39;00m\n",
      "File \u001B[0;32m/Library/Frameworks/Python.framework/Versions/3.8/lib/python3.8/site-packages/numpy/lib/arraysetops.py:314\u001B[0m, in \u001B[0;36m_unique1d\u001B[0;34m(ar, return_index, return_inverse, return_counts)\u001B[0m\n\u001B[1;32m    309\u001B[0m \u001B[38;5;28;01mdef\u001B[39;00m \u001B[38;5;21m_unique1d\u001B[39m(ar, return_index\u001B[38;5;241m=\u001B[39m\u001B[38;5;28;01mFalse\u001B[39;00m, return_inverse\u001B[38;5;241m=\u001B[39m\u001B[38;5;28;01mFalse\u001B[39;00m,\n\u001B[1;32m    310\u001B[0m               return_counts\u001B[38;5;241m=\u001B[39m\u001B[38;5;28;01mFalse\u001B[39;00m):\n\u001B[1;32m    311\u001B[0m     \u001B[38;5;124;03m\"\"\"\u001B[39;00m\n\u001B[1;32m    312\u001B[0m \u001B[38;5;124;03m    Find the unique elements of an array, ignoring shape.\u001B[39;00m\n\u001B[1;32m    313\u001B[0m \u001B[38;5;124;03m    \"\"\"\u001B[39;00m\n\u001B[0;32m--> 314\u001B[0m     ar \u001B[38;5;241m=\u001B[39m \u001B[43mnp\u001B[49m\u001B[38;5;241;43m.\u001B[39;49m\u001B[43masanyarray\u001B[49m(ar)\u001B[38;5;241m.\u001B[39mflatten()\n\u001B[1;32m    316\u001B[0m     optional_indices \u001B[38;5;241m=\u001B[39m return_index \u001B[38;5;129;01mor\u001B[39;00m return_inverse\n\u001B[1;32m    318\u001B[0m     \u001B[38;5;28;01mif\u001B[39;00m optional_indices:\n",
      "\u001B[0;31mKeyboardInterrupt\u001B[0m: "
     ]
    }
   ],
   "source": [
    "# unspc_segments\n",
    "# unspc_family\n",
    "# unspc_class\n",
    "# unspc_commodity\n",
    "new_column_series = []\n",
    "\n",
    "segment_best_matches = {}\n",
    "family_best_matches = {}\n",
    "class_best_matches = {}\n",
    "commodity_best_matches = {}\n",
    "\n",
    "for segment_key, segment_keywords in unspc_segments.items():\n",
    "    for index, keyword_arr_avalara in enumerate((df_xlsx[\"tax_parsed\"])):\n",
    "        num_matches = len(np.intersect1d(keyword_arr_avalara, segment_keywords))\n",
    "        if num_matches > 1:\n",
    "            tax_code = df_xlsx[\"AvaTax System Tax Code\"].iloc[index]\n",
    "            if segment_key in segment_best_matches:\n",
    "                segment_best_matches[segment_key].append(tax_code)\n",
    "            else:\n",
    "                segment_best_matches[segment_key] = [tax_code]\n",
    "\n",
    "for family_key, family_keywords in unspc_family_full.items():\n",
    "    for index, keyword_arr_avalara in enumerate((df_xlsx[\"tax_parsed\"])):\n",
    "        num_matches = len(np.intersect1d(keyword_arr_avalara, family_keywords))\n",
    "        if num_matches > 0:\n",
    "            tax_code = df_xlsx[\"AvaTax System Tax Code\"].iloc[index]\n",
    "            if family_key in family_best_matches:\n",
    "                family_best_matches[family_key].append(tax_code)\n",
    "            else:\n",
    "                family_best_matches[family_key] = [tax_code]\n",
    "\n",
    "for class_key, class_keywords in unspc_class_full.items():\n",
    "    for index, keyword_arr_avalara in enumerate((df_xlsx[\"tax_parsed\"])):\n",
    "        num_matches = len(np.intersect1d(keyword_arr_avalara, class_keywords))\n",
    "        if num_matches > 0:\n",
    "            tax_code = df_xlsx[\"AvaTax System Tax Code\"].iloc[index]\n",
    "            if class_key in class_best_matches:\n",
    "                class_best_matches[class_key].append(tax_code)\n",
    "            else:\n",
    "                class_best_matches[class_key] = [tax_code]\n",
    "\n",
    "for commodity_key, commodity_keywords in unspc_commodity_full.items():\n",
    "    for index, keyword_arr_avalara in enumerate((df_xlsx[\"tax_parsed\"])):\n",
    "        num_matches = len(np.intersect1d(keyword_arr_avalara, commodity_keywords))\n",
    "        if num_matches > 0:\n",
    "            tax_code = df_xlsx[\"AvaTax System Tax Code\"].iloc[index]\n",
    "            if commodity_key in commodity_best_matches:\n",
    "                commodity_best_matches[commodity_key].append(tax_code)\n",
    "            else:\n",
    "                commodity_best_matches[commodity_key] = [tax_code]"
   ],
   "metadata": {
    "collapsed": false,
    "pycharm": {
     "name": "#%%\n"
    }
   }
  }
 ],
 "metadata": {
  "kernelspec": {
   "display_name": "Python 3 (ipykernel)",
   "language": "python",
   "name": "python3"
  },
  "language_info": {
   "codemirror_mode": {
    "name": "ipython",
    "version": 3
   },
   "file_extension": ".py",
   "mimetype": "text/x-python",
   "name": "python",
   "nbconvert_exporter": "python",
   "pygments_lexer": "ipython3",
   "version": "3.10.8"
  }
 },
 "nbformat": 4,
 "nbformat_minor": 5
}